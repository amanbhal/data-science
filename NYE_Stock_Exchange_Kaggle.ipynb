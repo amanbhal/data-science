{
  "nbformat": 4,
  "nbformat_minor": 0,
  "metadata": {
    "colab": {
      "name": "NYE_Stock_Exchange_Kaggle.ipynb",
      "version": "0.3.2",
      "provenance": [],
      "include_colab_link": true
    },
    "kernelspec": {
      "name": "python3",
      "display_name": "Python 3"
    }
  },
  "cells": [
    {
      "cell_type": "markdown",
      "metadata": {
        "id": "view-in-github",
        "colab_type": "text"
      },
      "source": [
        "<a href=\"https://colab.research.google.com/github/amanbhal/data-science/blob/master/NYE_Stock_Exchange_Kaggle.ipynb\" target=\"_parent\"><img src=\"https://colab.research.google.com/assets/colab-badge.svg\" alt=\"Open In Colab\"/></a>"
      ]
    },
    {
      "cell_type": "code",
      "metadata": {
        "id": "GcRlaqjm60qV",
        "colab_type": "code",
        "colab": {}
      },
      "source": [
        "# Run this cell to mount your Google Drive.\n",
        "from google.colab import drive\n",
        "drive.mount('/content/drive')"
      ],
      "execution_count": 0,
      "outputs": []
    },
    {
      "cell_type": "code",
      "metadata": {
        "id": "1PvSZkMihc-5",
        "colab_type": "code",
        "colab": {}
      },
      "source": [
        "import matplotlib.pyplot as plt\n",
        "import seaborn as sns\n",
        "\n",
        "import pandas as pd\n",
        "import numpy as np\n",
        "from pylab import rcParams\n",
        "\n",
        "import tensorflow as tf\n",
        "from keras import optimizers, Sequential\n",
        "from keras.models import Model\n",
        "from keras.utils import plot_model\n",
        "from keras.layers import Dense, LSTM, RepeatVector, TimeDistributed\n",
        "from keras.callbacks import ModelCheckpoint, TensorBoard\n",
        "from keras.layers.core import Activation, Dropout\n",
        "\n",
        "from sklearn.preprocessing import MinMaxScaler\n",
        "from sklearn.preprocessing import StandardScaler\n",
        "from sklearn.model_selection import train_test_split\n",
        "from sklearn.metrics import confusion_matrix, precision_recall_curve\n",
        "from sklearn.metrics import recall_score, classification_report, auc, roc_curve\n",
        "from sklearn.metrics import precision_recall_fscore_support, f1_score\n",
        "\n",
        "import time\n",
        "\n",
        "from numpy.random import seed\n",
        "seed(7)\n",
        "from tensorflow import set_random_seed\n",
        "set_random_seed(11)\n",
        "\n",
        "from sklearn.model_selection import train_test_split\n",
        "\n",
        "# load dataset\n",
        "df = pd.read_csv(\"/content/drive/My Drive/ColabDatasets/NY_Stock_Market/prices-split-adjusted.csv\")\n",
        "\n",
        "# select one company for data analysis\n",
        "df = df[df['symbol']=='WMT']\n",
        "\n",
        "# drop unwanted columns\n",
        "df = df.drop(['date', 'symbol'], axis=1)\n",
        "\n",
        "# feature scaling\n",
        "scaler = MinMaxScaler(feature_range=(0, 1))\n",
        "df = scaler.fit_transform(df)\n",
        "\n",
        "# split data into test and train\n",
        "train_size = int(len(df) * 0.80)\n",
        "test_size = len(df) - train_size\n",
        "train, test = df[0:train_size,:], df[train_size:len(df),:]"
      ],
      "execution_count": 0,
      "outputs": []
    },
    {
      "cell_type": "code",
      "metadata": {
        "id": "rtvGsAU3_OVl",
        "colab_type": "code",
        "colab": {}
      },
      "source": [
        "# lookback x days in past\n",
        "lookback = 1\n",
        "n_features = train.shape[1]\n",
        "\n",
        "def temporalize(X, lookback):\n",
        "    output_X = []\n",
        "    output_Y = []\n",
        "    for i in range(len(X)-lookback-1):\n",
        "        temp = X[i:(i+lookback), :]\n",
        "        output_X.append(temp)\n",
        "        output_Y.append(X[i+lookback, :])\n",
        "    return np.array(output_X), np.array(output_Y)\n",
        "  \n",
        "X_train, y_train = temporalize(train,lookback)\n",
        "X_test, y_test = temporalize(test,lookback)\n",
        "\n",
        "# reshape the X_train and X_test for LSTM model\n",
        "X_train = np.reshape(X_train, (X_train.shape[0], lookback, n_features))\n",
        "X_test = np.reshape(X_test, (X_test.shape[0], lookback, n_features))"
      ],
      "execution_count": 0,
      "outputs": []
    },
    {
      "cell_type": "code",
      "metadata": {
        "id": "loWMTX_P-97F",
        "colab_type": "code",
        "colab": {
          "base_uri": "https://localhost:8080/",
          "height": 105
        },
        "outputId": "6dce3ee4-970d-4812-d807-ef6d4b58d150"
      },
      "source": [
        "# build the LSTM model\n",
        "\n",
        "model = Sequential()\n",
        "\n",
        "model.add(LSTM(\n",
        "    input_shape=(lookback, n_features),\n",
        "    output_dim=50,\n",
        "    return_sequences=True))\n",
        "model.add(Dropout(0.2))\n",
        "\n",
        "model.add(LSTM(\n",
        "    100,\n",
        "    return_sequences=False))\n",
        "model.add(Dropout(0.2))\n",
        "\n",
        "model.add(Dense(\n",
        "    output_dim=n_features))\n",
        "model.add(Activation('linear'))\n",
        "\n",
        "start = time.time()\n",
        "model.compile(loss='mse', optimizer='rmsprop')"
      ],
      "execution_count": 101,
      "outputs": [
        {
          "output_type": "stream",
          "text": [
            "/usr/local/lib/python3.6/dist-packages/ipykernel_launcher.py:7: UserWarning: Update your `LSTM` call to the Keras 2 API: `LSTM(input_shape=(1, 5), return_sequences=True, units=50)`\n",
            "  import sys\n",
            "/usr/local/lib/python3.6/dist-packages/ipykernel_launcher.py:16: UserWarning: Update your `Dense` call to the Keras 2 API: `Dense(units=5)`\n",
            "  app.launch_new_instance()\n"
          ],
          "name": "stderr"
        }
      ]
    },
    {
      "cell_type": "code",
      "metadata": {
        "id": "vhfgbtcP-4yN",
        "colab_type": "code",
        "colab": {
          "base_uri": "https://localhost:8080/",
          "height": 765
        },
        "outputId": "f77349f1-f947-4e2c-9444-26508ab217b9"
      },
      "source": [
        "model.fit(X_train, y_train, batch_size=128, nb_epoch=20, validation_split=0.05)"
      ],
      "execution_count": 102,
      "outputs": [
        {
          "output_type": "stream",
          "text": [
            "/usr/local/lib/python3.6/dist-packages/ipykernel_launcher.py:1: UserWarning: The `nb_epoch` argument in `fit` has been renamed `epochs`.\n",
            "  \"\"\"Entry point for launching an IPython kernel.\n"
          ],
          "name": "stderr"
        },
        {
          "output_type": "stream",
          "text": [
            "Train on 1336 samples, validate on 71 samples\n",
            "Epoch 1/20\n",
            "1336/1336 [==============================] - 6s 5ms/step - loss: 0.1768 - val_loss: 0.1868\n",
            "Epoch 2/20\n",
            "1336/1336 [==============================] - 0s 75us/step - loss: 0.0897 - val_loss: 0.0619\n",
            "Epoch 3/20\n",
            "1336/1336 [==============================] - 0s 69us/step - loss: 0.0273 - val_loss: 0.0069\n",
            "Epoch 4/20\n",
            "1336/1336 [==============================] - 0s 73us/step - loss: 0.0111 - val_loss: 0.0021\n",
            "Epoch 5/20\n",
            "1336/1336 [==============================] - 0s 73us/step - loss: 0.0083 - val_loss: 0.0015\n",
            "Epoch 6/20\n",
            "1336/1336 [==============================] - 0s 82us/step - loss: 0.0064 - val_loss: 6.5854e-04\n",
            "Epoch 7/20\n",
            "1336/1336 [==============================] - 0s 79us/step - loss: 0.0049 - val_loss: 7.1785e-04\n",
            "Epoch 8/20\n",
            "1336/1336 [==============================] - 0s 70us/step - loss: 0.0044 - val_loss: 6.3302e-04\n",
            "Epoch 9/20\n",
            "1336/1336 [==============================] - 0s 72us/step - loss: 0.0038 - val_loss: 4.5363e-04\n",
            "Epoch 10/20\n",
            "1336/1336 [==============================] - 0s 78us/step - loss: 0.0037 - val_loss: 0.0021\n",
            "Epoch 11/20\n",
            "1336/1336 [==============================] - 0s 69us/step - loss: 0.0035 - val_loss: 0.0026\n",
            "Epoch 12/20\n",
            "1336/1336 [==============================] - 0s 74us/step - loss: 0.0037 - val_loss: 4.7376e-04\n",
            "Epoch 13/20\n",
            "1336/1336 [==============================] - 0s 79us/step - loss: 0.0032 - val_loss: 0.0012\n",
            "Epoch 14/20\n",
            "1336/1336 [==============================] - 0s 77us/step - loss: 0.0032 - val_loss: 4.9114e-04\n",
            "Epoch 15/20\n",
            "1336/1336 [==============================] - 0s 71us/step - loss: 0.0032 - val_loss: 8.0847e-04\n",
            "Epoch 16/20\n",
            "1336/1336 [==============================] - 0s 80us/step - loss: 0.0034 - val_loss: 4.8568e-04\n",
            "Epoch 17/20\n",
            "1336/1336 [==============================] - 0s 73us/step - loss: 0.0030 - val_loss: 0.0013\n",
            "Epoch 18/20\n",
            "1336/1336 [==============================] - 0s 75us/step - loss: 0.0029 - val_loss: 0.0015\n",
            "Epoch 19/20\n",
            "1336/1336 [==============================] - 0s 80us/step - loss: 0.0028 - val_loss: 7.9215e-04\n",
            "Epoch 20/20\n",
            "1336/1336 [==============================] - 0s 81us/step - loss: 0.0028 - val_loss: 8.1015e-04\n"
          ],
          "name": "stdout"
        },
        {
          "output_type": "execute_result",
          "data": {
            "text/plain": [
              "<keras.callbacks.History at 0x7f5ace882cf8>"
            ]
          },
          "metadata": {
            "tags": []
          },
          "execution_count": 102
        }
      ]
    },
    {
      "cell_type": "code",
      "metadata": {
        "id": "YpnRAdZu7pUn",
        "colab_type": "code",
        "colab": {
          "base_uri": "https://localhost:8080/",
          "height": 295
        },
        "outputId": "65e0f42e-ddcb-41c5-faea-8387fa8a9260"
      },
      "source": [
        "y_pred = model.predict(X_test)\n",
        "\n",
        "plt.plot(scaler.inverse_transform(y_pred)[:,0], 'b', label='predicted')\n",
        "plt.plot(scaler.inverse_transform(y_test)[:,0], 'r', label='actual')\n",
        "plt.title('Stock Prediction')\n",
        "plt.ylabel('Stock Price')\n",
        "plt.xlabel('Time')\n",
        "plt.legend(loc='upper right')\n",
        "plt.show()\n"
      ],
      "execution_count": 103,
      "outputs": [
        {
          "output_type": "display_data",
          "data": {
            "image/png": "[encoded data removed]",
            "text/plain": [
              "<Figure size 432x288 with 1 Axes>"
            ]
          },
          "metadata": {
            "tags": []
          }
        }
      ]
    }
  ]
}