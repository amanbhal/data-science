{
  "nbformat": 4,
  "nbformat_minor": 0,
  "metadata": {
    "colab": {
      "name": "NYE_Stock_Exchange_Kaggle.ipynb",
      "version": "0.3.2",
      "provenance": [],
      "include_colab_link": true
    },
    "kernelspec": {
      "name": "python3",
      "display_name": "Python 3"
    }
  },
  "cells": [
    {
      "cell_type": "markdown",
      "metadata": {
        "id": "view-in-github",
        "colab_type": "text"
      },
      "source": [
        "<a href=\"https://colab.research.google.com/github/amanbhal/data-science/blob/master/NYE_Stock_Exchange_Kaggle.ipynb\" target=\"_parent\"><img src=\"https://colab.research.google.com/assets/colab-badge.svg\" alt=\"Open In Colab\"/></a>"
      ]
    },
    {
      "cell_type": "code",
      "metadata": {
        "id": "GcRlaqjm60qV",
        "colab_type": "code",
        "colab": {
          "base_uri": "https://localhost:8080/",
          "height": 122
        },
        "outputId": "41b34739-f2a8-4400-f38f-66c62dec159d"
      },
      "source": [
        "# Run this cell to mount your Google Drive.\n",
        "from google.colab import drive\n",
        "drive.mount('/content/drive')"
      ],
      "execution_count": 1,
      "outputs": [
        {
          "output_type": "stream",
          "text": [
            "Go to this URL in a browser: https://accounts.google.com/o/oauth2/auth?client_id=947318989803-6bn6qk8qdgf4n4g3pfee6491hc0brc4i.apps.googleusercontent.com&redirect_uri=urn%3Aietf%3Awg%3Aoauth%3A2.0%3Aoob&scope=email%20https%3A%2F%2Fwww.googleapis.com%2Fauth%2Fdocs.test%20https%3A%2F%2Fwww.googleapis.com%2Fauth%2Fdrive%20https%3A%2F%2Fwww.googleapis.com%2Fauth%2Fdrive.photos.readonly%20https%3A%2F%2Fwww.googleapis.com%2Fauth%2Fpeopleapi.readonly&response_type=code\n",
            "\n",
            "Enter your authorization code:\n",
            "··········\n",
            "Mounted at /content/drive\n"
          ],
          "name": "stdout"
        }
      ]
    },
    {
      "cell_type": "markdown",
      "metadata": {
        "id": "BdDvdVWErNSm",
        "colab_type": "text"
      },
      "source": [
        "### Import all required libraries"
      ]
    },
    {
      "cell_type": "code",
      "metadata": {
        "id": "1PvSZkMihc-5",
        "colab_type": "code",
        "colab": {}
      },
      "source": [
        "import matplotlib.pyplot as plt\n",
        "import seaborn as sns\n",
        "\n",
        "import pandas as pd\n",
        "import numpy as np\n",
        "from pylab import rcParams\n",
        "\n",
        "import tensorflow as tf\n",
        "from keras import optimizers, Sequential\n",
        "from keras.models import Model\n",
        "from keras.utils import plot_model\n",
        "from keras.layers import Dense, LSTM, RepeatVector, TimeDistributed\n",
        "from keras.callbacks import ModelCheckpoint, TensorBoard\n",
        "from keras.layers.core import Activation, Dropout\n",
        "\n",
        "from sklearn.preprocessing import MinMaxScaler\n",
        "from sklearn.preprocessing import StandardScaler\n",
        "from sklearn.model_selection import train_test_split\n",
        "from sklearn.metrics import confusion_matrix, precision_recall_curve\n",
        "from sklearn.metrics import recall_score, classification_report, auc, roc_curve\n",
        "from sklearn.metrics import precision_recall_fscore_support, f1_score\n",
        "\n",
        "import time\n",
        "\n",
        "from numpy.random import seed\n",
        "seed(7)\n",
        "from tensorflow import set_random_seed\n",
        "set_random_seed(11)"
      ],
      "execution_count": 0,
      "outputs": []
    },
    {
      "cell_type": "markdown",
      "metadata": {
        "id": "g_WszgGJrXRo",
        "colab_type": "text"
      },
      "source": [
        "### Load the dataset and filter the dataset for the stock for which you want to perform the analysis. Drop the unwanted features present in the data."
      ]
    },
    {
      "cell_type": "code",
      "metadata": {
        "id": "n2o1MkNlrGJj",
        "colab_type": "code",
        "colab": {}
      },
      "source": [
        "# load dataset\n",
        "df = pd.read_csv(\"/content/drive/My Drive/ColabDatasets/NY_Stock_Market/prices-split-adjusted.csv\")\n",
        "\n",
        "# select one company for data analysis\n",
        "df = df[df['symbol']=='WMT']\n",
        "\n",
        "# drop unwanted columns\n",
        "df = df.drop(['date', 'symbol'], axis=1)"
      ],
      "execution_count": 0,
      "outputs": []
    },
    {
      "cell_type": "markdown",
      "metadata": {
        "id": "sospBQx6wfY4",
        "colab_type": "text"
      },
      "source": [
        "### Define all the variables needed for temporalizing the data.\n",
        "In the 3D array, X, each 2D block at X[i,:,:] denotes the prediction data that corresponds to y[i] . To draw an analogy, in regression y[i] corresponds to a 1D vector X[i,:] ; in LSTM y[i] corresponds to a 2D array X[i,:,:] .\n",
        "This 2D block X[i,:,:] should have the predictors at input_X[i,:] and the previous rows up to the given lookback .\n",
        "This is done by ***temporalize*** function defined below."
      ]
    },
    {
      "cell_type": "code",
      "metadata": {
        "id": "pF-d2QnRbgUk",
        "colab_type": "code",
        "colab": {}
      },
      "source": [
        "# lookback x days in past\n",
        "lookback = 1\n",
        "n_features = df.shape[1]\n",
        "feature_set_for_y = [0]\n",
        "number_of_outputs = len(feature_set_for_y)\n",
        "\n",
        "def temporalize(X, lookback):\n",
        "    output_X = []\n",
        "    output_Y = []\n",
        "    for i in range(len(X)-lookback-1):\n",
        "        temp = X[i:(i+lookback), :]\n",
        "        output_X.append(temp)\n",
        "        # predicting lookback days ahead\n",
        "        output_Y.append(X[i+lookback, feature_set_for_y])\n",
        "    return np.array(output_X), np.array(output_Y)"
      ],
      "execution_count": 0,
      "outputs": []
    },
    {
      "cell_type": "code",
      "metadata": {
        "id": "BInlfKvIb9rw",
        "colab_type": "code",
        "colab": {}
      },
      "source": [
        "X, y = temporalize(np.array(df), lookback)"
      ],
      "execution_count": 0,
      "outputs": []
    },
    {
      "cell_type": "markdown",
      "metadata": {
        "id": "lQA-BqikxeUH",
        "colab_type": "text"
      },
      "source": [
        "### Split the data into test and train.\n",
        "We did not use the ***train_test_split*** function because it randomly splits the data into train and test. As we want to preserve the order of data therefore we will split the consecutive rows."
      ]
    },
    {
      "cell_type": "code",
      "metadata": {
        "id": "QdPIOuEnfwpf",
        "colab_type": "code",
        "colab": {}
      },
      "source": [
        "# split data into test and train\n",
        "train_size = int(len(df) * 0.80)\n",
        "test_size = len(df) - train_size\n",
        "X_train, X_test = X[0:train_size,:], X[train_size:len(df),:]\n",
        "y_train, y_test = y[0:train_size,:], y[train_size:len(df),:]\n",
        "\n",
        "# reshape train and test for LSTM model\n",
        "X_train = X_train.reshape(X_train.shape[0], lookback, n_features)"
      ],
      "execution_count": 0,
      "outputs": []
    },
    {
      "cell_type": "markdown",
      "metadata": {
        "id": "dGOSiiHYyTXa",
        "colab_type": "text"
      },
      "source": [
        "### Feature Scaling\n",
        "Since ***X_train*** is a 3D metrics therefore to scale it we have defined two functions: ***flatten*** and ***scale***.\n",
        "\n",
        "***flatten*** : This function will re-create the original 2D array from which the 3D arrays were created. This function is the inverse of temporalize, meaning X = flatten(temporalize(X)).\n",
        "\n",
        "***scale*** : This function will scale a 3D array that we created as inputs to the LSTM.\n",
        "\n",
        "We have to use seperate scaler ojects for both X and y as both have different dimensions\n",
        "\n",
        "*NOTE: One common standardization mistake is: we normalize the entire data and then split into train-test. This is incorrect. Test data should be completely unseen to anything during the modeling. We should, therefore, normalize the training data, and use its summary statistics to normalize the test data (for normalization, these statistics are the mean and variances of each feature).*"
      ]
    },
    {
      "cell_type": "code",
      "metadata": {
        "id": "hHxeAHGsinNE",
        "colab_type": "code",
        "colab": {}
      },
      "source": [
        "# feature scaling for the data\n",
        "def flatten(X):\n",
        "    '''\n",
        "    Flatten a 3D array.\n",
        "    \n",
        "    Input\n",
        "    X            A 3D array for lstm, where the array is sample x timesteps x features.\n",
        "    \n",
        "    Output\n",
        "    flattened_X  A 2D array, sample x features.\n",
        "    '''\n",
        "    flattened_X = np.empty((X.shape[0], X.shape[2]))  # sample x features array.\n",
        "    for i in range(X.shape[0]):\n",
        "        flattened_X[i] = X[i, (X.shape[1]-1), :]\n",
        "    return(flattened_X)\n",
        "\n",
        "def scale(X, scaler):\n",
        "    '''\n",
        "    Scale 3D array.\n",
        "\n",
        "    Inputs\n",
        "    X            A 3D array for lstm, where the array is sample x timesteps x features.\n",
        "    scaler       A scaler object, e.g., sklearn.preprocessing.StandardScaler, sklearn.preprocessing.normalize\n",
        "    \n",
        "    Output\n",
        "    X            Scaled 3D array.\n",
        "    '''\n",
        "    for i in range(X.shape[0]):\n",
        "        X[i, :, :] = scaler.transform(X[i, :, :])\n",
        "        \n",
        "    return X\n",
        "  \n",
        "# Initialize a scaler using the training data.\n",
        "X_scaler = MinMaxScaler(feature_range=(0, 1)).fit(flatten(X_train))\n",
        "X_train_scaled = scale(X_train, X_scaler)\n",
        "X_test_scaled = scale(X_test, X_scaler)\n",
        "\n",
        "y_scaler = MinMaxScaler(feature_range=(0, 1)).fit(y_train)\n",
        "y_train_scaled = y_scaler.transform(y_train)\n",
        "y_test_scaled = y_scaler.transform(y_test)"
      ],
      "execution_count": 0,
      "outputs": []
    },
    {
      "cell_type": "markdown",
      "metadata": {
        "id": "Dn3lmiclzdix",
        "colab_type": "text"
      },
      "source": [
        "### Generating the model"
      ]
    },
    {
      "cell_type": "code",
      "metadata": {
        "id": "loWMTX_P-97F",
        "colab_type": "code",
        "colab": {}
      },
      "source": [
        "# build the LSTM model\n",
        "\n",
        "model = Sequential()\n",
        "\n",
        "model.add(LSTM(\n",
        "    input_shape=(lookback, n_features),\n",
        "    return_sequences=True,\n",
        "    units=50))\n",
        "model.add(Dropout(0.2))\n",
        "\n",
        "model.add(LSTM(\n",
        "    100,\n",
        "    return_sequences=False))\n",
        "model.add(Dropout(0.2))\n",
        "\n",
        "model.add(Dense(\n",
        "    units=number_of_outputs))\n",
        "model.add(Activation('relu'))\n",
        "\n",
        "start = time.time()\n",
        "model.compile(loss='mse', optimizer='adam')"
      ],
      "execution_count": 0,
      "outputs": []
    },
    {
      "cell_type": "markdown",
      "metadata": {
        "id": "KEnJM8BNzkzK",
        "colab_type": "text"
      },
      "source": [
        "### Run model on training and validation data"
      ]
    },
    {
      "cell_type": "code",
      "metadata": {
        "id": "vhfgbtcP-4yN",
        "colab_type": "code",
        "colab": {
          "base_uri": "https://localhost:8080/",
          "height": 731
        },
        "outputId": "4c2bb385-36c7-4ecf-97dd-67ce83fd1351"
      },
      "source": [
        "model.fit(X_train_scaled, y_train_scaled, batch_size=128, epochs=20, validation_split=0.05)"
      ],
      "execution_count": 68,
      "outputs": [
        {
          "output_type": "stream",
          "text": [
            "Train on 1338 samples, validate on 71 samples\n",
            "Epoch 1/20\n",
            "1338/1338 [==============================] - 4s 3ms/step - loss: 0.2264 - val_loss: 0.2754\n",
            "Epoch 2/20\n",
            "1338/1338 [==============================] - 0s 80us/step - loss: 0.1523 - val_loss: 0.1478\n",
            "Epoch 3/20\n",
            "1338/1338 [==============================] - 0s 75us/step - loss: 0.0655 - val_loss: 0.0246\n",
            "Epoch 4/20\n",
            "1338/1338 [==============================] - 0s 75us/step - loss: 0.0190 - val_loss: 0.0033\n",
            "Epoch 5/20\n",
            "1338/1338 [==============================] - 0s 76us/step - loss: 0.0183 - val_loss: 3.0741e-04\n",
            "Epoch 6/20\n",
            "1338/1338 [==============================] - 0s 85us/step - loss: 0.0112 - val_loss: 0.0037\n",
            "Epoch 7/20\n",
            "1338/1338 [==============================] - 0s 72us/step - loss: 0.0092 - val_loss: 5.7866e-04\n",
            "Epoch 8/20\n",
            "1338/1338 [==============================] - 0s 87us/step - loss: 0.0068 - val_loss: 1.4597e-04\n",
            "Epoch 9/20\n",
            "1338/1338 [==============================] - 0s 74us/step - loss: 0.0046 - val_loss: 6.1813e-04\n",
            "Epoch 10/20\n",
            "1338/1338 [==============================] - 0s 84us/step - loss: 0.0038 - val_loss: 3.1157e-04\n",
            "Epoch 11/20\n",
            "1338/1338 [==============================] - 0s 75us/step - loss: 0.0030 - val_loss: 2.8595e-04\n",
            "Epoch 12/20\n",
            "1338/1338 [==============================] - 0s 74us/step - loss: 0.0026 - val_loss: 4.3443e-04\n",
            "Epoch 13/20\n",
            "1338/1338 [==============================] - 0s 78us/step - loss: 0.0026 - val_loss: 2.7976e-04\n",
            "Epoch 14/20\n",
            "1338/1338 [==============================] - 0s 80us/step - loss: 0.0024 - val_loss: 3.7605e-04\n",
            "Epoch 15/20\n",
            "1338/1338 [==============================] - 0s 77us/step - loss: 0.0025 - val_loss: 2.8228e-04\n",
            "Epoch 16/20\n",
            "1338/1338 [==============================] - 0s 76us/step - loss: 0.0024 - val_loss: 4.0369e-04\n",
            "Epoch 17/20\n",
            "1338/1338 [==============================] - 0s 78us/step - loss: 0.0022 - val_loss: 2.9352e-04\n",
            "Epoch 18/20\n",
            "1338/1338 [==============================] - 0s 75us/step - loss: 0.0025 - val_loss: 4.9354e-04\n",
            "Epoch 19/20\n",
            "1338/1338 [==============================] - 0s 76us/step - loss: 0.0023 - val_loss: 2.3264e-04\n",
            "Epoch 20/20\n",
            "1338/1338 [==============================] - 0s 80us/step - loss: 0.0023 - val_loss: 3.0037e-04\n"
          ],
          "name": "stdout"
        },
        {
          "output_type": "execute_result",
          "data": {
            "text/plain": [
              "<keras.callbacks.History at 0x7f735db5e080>"
            ]
          },
          "metadata": {
            "tags": []
          },
          "execution_count": 68
        }
      ]
    },
    {
      "cell_type": "markdown",
      "metadata": {
        "id": "8ppNmHpEztzn",
        "colab_type": "text"
      },
      "source": [
        "### Predict and Plot"
      ]
    },
    {
      "cell_type": "code",
      "metadata": {
        "id": "YpnRAdZu7pUn",
        "colab_type": "code",
        "colab": {
          "base_uri": "https://localhost:8080/",
          "height": 295
        },
        "outputId": "13f5c882-17e1-4ef9-b7cf-eb50e90fa710"
      },
      "source": [
        "y_pred = model.predict(X_test_scaled)\n",
        "\n",
        "plt.plot(y_scaler.inverse_transform(y_pred), 'b', label='predicted')\n",
        "plt.plot(y_scaler.inverse_transform(y_test_scaled), 'r', label='actual')\n",
        "plt.title('Stock Prediction')\n",
        "plt.ylabel('Stock Price')\n",
        "plt.xlabel('Time')\n",
        "plt.legend(loc='lower right')\n",
        "plt.show()\n"
      ],
      "execution_count": 69,
      "outputs": [
        {
          "output_type": "display_data",
          "data": {
            "image/png": "[encoded data removed]",
            "text/plain": [
              "<Figure size 432x288 with 1 Axes>"
            ]
          },
          "metadata": {
            "tags": []
          }
        }
      ]
    }
  ]
}